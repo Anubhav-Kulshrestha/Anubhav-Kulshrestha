{
  "nbformat": 4,
  "nbformat_minor": 0,
  "metadata": {
    "colab": {
      "provenance": [],
      "collapsed_sections": [],
      "authorship_tag": "ABX9TyMuNPYtmZvWB0mAaW2oUeZF",
      "include_colab_link": true
    },
    "kernelspec": {
      "name": "python3",
      "display_name": "Python 3"
    },
    "language_info": {
      "name": "python"
    }
  },
  "cells": [
    {
      "cell_type": "markdown",
      "metadata": {
        "id": "view-in-github",
        "colab_type": "text"
      },
      "source": [
        "<a href=\"https://colab.research.google.com/github/Anubhav-Kulshrestha/Anubhav-Kulshrestha/blob/main/PDF_to_Excel.ipynb\" target=\"_parent\"><img src=\"https://colab.research.google.com/assets/colab-badge.svg\" alt=\"Open In Colab\"/></a>"
      ]
    },
    {
      "cell_type": "code",
      "source": [
        "import pandas as pd\n",
        "import numpy as np\n",
        "from tabula import read_pdf_table\n",
        "import PyPDF2"
      ],
      "metadata": {
        "id": "wkHVcotxVknG"
      },
      "execution_count": null,
      "outputs": []
    },
    {
      "cell_type": "code",
      "execution_count": null,
      "metadata": {
        "id": "hLN5_C8aVbEG"
      },
      "outputs": [],
      "source": [
        "df = tabula.read_pdf('inputfile.pdf', pages='all')\n",
        "  for item in df:\n",
        "    for info in item.values:\n",
        "      list1.append(info)\n",
        "  df = pd.DataFrame(list1)\n",
        "  df.to_excel('outfile.xlsx', sheet_name='Sheet1', index=True)"
      ]
    }
  ]
}