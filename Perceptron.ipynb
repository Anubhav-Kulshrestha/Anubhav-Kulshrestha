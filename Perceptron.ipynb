{
  "nbformat": 4,
  "nbformat_minor": 0,
  "metadata": {
    "colab": {
      "name": "Perceptron",
      "provenance": [],
      "authorship_tag": "ABX9TyOo+ZLCm/rqx6AlPONUEFPK",
      "include_colab_link": true
    },
    "kernelspec": {
      "name": "python3",
      "display_name": "Python 3"
    },
    "language_info": {
      "name": "python"
    }
  },
  "cells": [
    {
      "cell_type": "markdown",
      "metadata": {
        "id": "view-in-github",
        "colab_type": "text"
      },
      "source": [
        "<a href=\"https://colab.research.google.com/github/Anubhav-Kulshrestha/Anubhav-Kulshrestha/blob/main/Perceptron.ipynb\" target=\"_parent\"><img src=\"https://colab.research.google.com/assets/colab-badge.svg\" alt=\"Open In Colab\"/></a>"
      ]
    },
    {
      "cell_type": "code",
      "execution_count": 5,
      "metadata": {
        "id": "SVEKktFPEexh"
      },
      "outputs": [],
      "source": [
        "import tensorflow as tf\n",
        "import keras as keras\n",
        "class MyDenseLayer(tf.keras.layers.Layer):\n",
        "  def __init__(self,input_dim,output_dim):\n",
        "    super (MyDenseLayer, self).__init__()\n",
        "\n",
        "\n",
        " #Initializing weights and bias\n",
        "\n",
        "    self.W = self.add_weight([input_dim, output_dim])\n",
        "    self.b = self.add_weight([1,output_dim])    "
      ]
    }
  ]
}